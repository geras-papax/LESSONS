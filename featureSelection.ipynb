{
 "cells": [
  {
   "cell_type": "code",
   "execution_count": 1,
   "metadata": {},
   "outputs": [],
   "source": [
    "import pandas as pd\n",
    "import numpy as np\n",
    "import seaborn as sns\n",
    "import matplotlib.pyplot as plt\n",
    "from scipy.stats import ttest_ind\n",
    "from Utils.DataAnalysis import *\n",
    "from Utils.CorrelationFiltering import *\n",
    "\n",
    "# Load the CSV file\n",
    "data = pd.read_csv('Data/Data.csv')"
   ]
  },
  {
   "cell_type": "code",
   "execution_count": 2,
   "metadata": {},
   "outputs": [
    {
     "name": "stdout",
     "output_type": "stream",
     "text": [
      "[[ 0.16585108  0.17864966  0.25456389  0.20122077  0.1554711   0.16242338\n",
      "   0.248927    0.21228068  0.18778658  0.20068042  0.22333529  0.1809587\n",
      "   0.12284552  0.17972322  0.22217379  0.21288348  0.25043693  0.21698965\n",
      "   0.19304495 -0.00077224  0.26893542  0.18941985  0.1294414   0.16905229\n",
      "   0.21927474  0.16592821  0.11279608  0.21316468]]\n",
      "[210.38531756  53.25844512 224.02790649 222.40262464   4.79374663\n",
      "   7.95042402  81.96076749 206.660031    84.05502321 186.56910834\n",
      " 187.88739536   5.85828535  16.23644517  35.40926997 263.60873779\n",
      " 132.3255504  251.82509299 264.23879952  26.54372094  13.39352732\n",
      "  17.56494628 148.32662762  66.67960092  93.08006993  86.15392849\n",
      "  11.54628638  10.71667224   1.35007184]\n",
      "Top 5 features selected by Mutual Information: [['Feature-20' 'Feature-27' 'Feature-13' 'Feature-23' 'Feature-5'\n",
      "  'Feature-6' 'Feature-1' 'Feature-26' 'Feature-24' 'Feature-2'\n",
      "  'Feature-14' 'Feature-12' 'Feature-9' 'Feature-22' 'Feature-19'\n",
      "  'Feature-10' 'Feature-4' 'Feature-8' 'Feature-16' 'Feature-28'\n",
      "  'Feature-18' 'Feature-25' 'Feature-15' 'Feature-11' 'Feature-7'\n",
      "  'Feature-17' 'Feature-3' 'Feature-21']]\n",
      "Top 5 features selected by Correlation: Index(['Feature-18', 'Feature-15', 'Feature-17', 'Feature-3', 'Feature-4'], dtype='object')\n",
      "Top 5 features selected by Pearson Correlation: Index(['Feature-18', 'Feature-15', 'Feature-17', 'Feature-3', 'Feature-4'], dtype='object')\n"
     ]
    },
    {
     "name": "stderr",
     "output_type": "stream",
     "text": [
     ]
    }
   ],
   "source": [
    "FeatureSelection(data)"
   ]
  }
 ],
 "metadata": {
  "kernelspec": {
   "display_name": "myEnv",
   "language": "python",
   "name": "python3"
  },
  "language_info": {
   "codemirror_mode": {
    "name": "ipython",
    "version": 3
   },
   "file_extension": ".py",
   "mimetype": "text/x-python",
   "name": "python",
   "nbconvert_exporter": "python",
   "pygments_lexer": "ipython3",
   "version": "3.10.11"
  },
  "orig_nbformat": 4
 },
 "nbformat": 4,
 "nbformat_minor": 2
}
